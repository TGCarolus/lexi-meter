{
 "cells": [
  {
   "cell_type": "code",
   "execution_count": null,
   "metadata": {},
   "outputs": [],
   "source": [
    "from fastapi import FastAPI\n",
    "import sqlite3\n",
    "import os\n",
    "\n",
    "app = FastAPI()\n",
    "\n",
    "DATABASE_URL = \"lexi_meter/data/data.db\"\n",
    "SCHEMA_FILE = \"lexi_meter/api/schema.sql\"\n",
    "\n",
    "def initialize_database():\n",
    "    \"\"\"Initializes the database using the schema.sql file if it doesn't exist.\"\"\"\n",
    "    if not os.path.exists(DATABASE_URL):\n",
    "        connection = sqlite3.connect(DATABASE_URL)\n",
    "        cursor = connection.cursor()\n",
    "\n",
    "        with open(SCHEMA_FILE, \"r\") as schema_file:\n",
    "            schema_sql = schema_file.read()\n",
    "\n",
    "        cursor.executescript(schema_sql)\n",
    "        connection.commit()\n",
    "        connection.close()\n",
    "        print(\"Database initialized\")\n",
    "    else:\n",
    "        print(\"Database already exists\")\n",
    "\n",
    "@app.on_event(\"startup\")\n",
    "def on_startup():\n",
    "    \"\"\"Creates database on start-up if it doesn't exist\"\"\"\n",
    "    initialize_database()\n",
    "\n",
    "# Your existing FastAPI routes and logic\n",
    "\n",
    "@app.get(\"/\")\n",
    "def read_root():\n",
    "    return {\"Hello\": \"World\"}\n",
    "\n",
    "# To run the FastAPI application\n",
    "if __name__ == \"__main__\":\n",
    "    import uvicorn # type: ignore\n",
    "    uvicorn.run(app, host=\"0.0.0.0\", port=8000)\n"
   ]
  }
 ],
 "metadata": {
  "kernelspec": {
   "display_name": "lexi_meter",
   "language": "python",
   "name": "python3"
  },
  "language_info": {
   "name": "python",
   "version": "3.12.0"
  }
 },
 "nbformat": 4,
 "nbformat_minor": 2
}
